{
 "cells": [
  {
   "cell_type": "code",
   "execution_count": 8,
   "metadata": {},
   "outputs": [
    {
     "name": "stdout",
     "output_type": "stream",
     "text": [
      "2\n"
     ]
    }
   ],
   "source": [
    "import functions   \n",
    "\n",
    "# testing Patterncount\n",
    "\n",
    "a = \"atcaatgatcaacgtaagcttctaagcatgatcaaggtgctcacacagtttatccacaac\"\n",
    "\n",
    "b = \"taag\"\n",
    "\n",
    "print(functions.PatternCount(a, b))"
   ]
  },
  {
   "cell_type": "code",
   "execution_count": 1,
   "metadata": {},
   "outputs": [
    {
     "name": "stdout",
     "output_type": "stream",
     "text": [
      "['CTAT', 'ACTA']\n"
     ]
    }
   ],
   "source": [
    "\n",
    "import functions\n",
    "\n",
    "#testing first version of Frequent words\n",
    "\n",
    "text = \"ACAACTATGCATACTATCGGGAACTATCCT\"\n",
    "\n",
    "k =4\n",
    "\n",
    "print(functions.FrequentWords(text, k))"
   ]
  },
  {
   "cell_type": "code",
   "execution_count": 3,
   "metadata": {},
   "outputs": [
    {
     "name": "stdout",
     "output_type": "stream",
     "text": [
      "['atgatcaag', 'ctcttgatc', 'tcttgatca', 'cttgatcat']\n"
     ]
    }
   ],
   "source": [
    "import functions\n",
    "\n",
    "#testing improved version of max k-mer function\n",
    "\n",
    "text = (\"atcaatgatcaacgtaagcttctaagcatgatcaaggtgctcacacagtttatccacaac\"\n",
    "        \"ctgagtggatgacatcaagataggtcgttgtatctccttcctctcgtactctcatgacca\"\n",
    "        \"cggaaagatgatcaagagaggatgatttcttggccatatcgcaatgaatacttgtgactt\"\n",
    "        \"gtgcttccaattgacatcttcagcgccatattgcgctggccaaggtgacggagcgggatt\"\n",
    "        \"acgaaagcatgatcatggctgttgttctgtttatcttgttttgactgagacttgttagga\"\n",
    "        \"tagacggtttttcatcactgactagccaaagccttactctgcctgacatcgaccgtaaat\"\n",
    "        \"tgataatgaatttacatgcttccgcgacgatttacctcttgatcatcgatccgattgaag\"\n",
    "        \"atcttcaattgttaattctcttgcctcgactcatagccatgatgagctcttgatcatgtt\"\n",
    "        \"tccttaaccctctattttttacggaagaatgatcaagctgctgctcttgatcatcgtttc\")\n",
    "\n",
    "k =9\n",
    "\n",
    "print(functions.ImprovedFrequentWords(text, k))"
   ]
  },
  {
   "cell_type": "code",
   "execution_count": 1,
   "metadata": {},
   "outputs": [
    {
     "name": "stdout",
     "output_type": "stream",
     "text": [
      "cttgatcat\n"
     ]
    }
   ],
   "source": [
    "import functions\n",
    "\n",
    "#testing reverse complement problem\n",
    "\n",
    "Pattern = \"atgatcaag\"\n",
    "\n",
    "print(functions.Complementreverse(Pattern))\n",
    "\n"
   ]
  },
  {
   "cell_type": "code",
   "execution_count": 2,
   "metadata": {},
   "outputs": [
    {
     "name": "stdout",
     "output_type": "stream",
     "text": [
      "27 127 508 397 468 525\n"
     ]
    }
   ],
   "source": [
    "import functions\n",
    "\n",
    "Pattern = \"atgatcaag\"\n",
    "Genome = (\"atcaatgatcaacgtaagcttctaagcatgatcaaggtgctcacacagtttatccacaac\"\n",
    "          \"ctgagtggatgacatcaagataggtcgttgtatctccttcctctcgtactctcatgacca\"\n",
    "          \"cggaaagatgatcaagagaggatgatttcttggccatatcgcaatgaatacttgtgactt\"\n",
    "          \"gtgcttccaattgacatcttcagcgccatattgcgctggccaaggtgacggagcgggatt\"\n",
    "          \"acgaaagcatgatcatggctgttgttctgtttatcttgttttgactgagacttgttagga\"\n",
    "          \"tagacggtttttcatcactgactagccaaagccttactctgcctgacatcgaccgtaaat\"\n",
    "          \"tgataatgaatttacatgcttccgcgacgatttacctcttgatcatcgatccgattgaag\"\n",
    "          \"atcttcaattgttaattctcttgcctcgactcatagccatgatgagctcttgatcatgtt\"\n",
    "          \"tccttaaccctctattttttacggaagaatgatcaagctgctgctcttgatcatcgtttc\")\n",
    "\n",
    "position = functions.patternmatching(Pattern, Genome)\n",
    "print(\" \".join(map(str, position)))"
   ]
  },
  {
   "cell_type": "code",
   "execution_count": null,
   "metadata": {},
   "outputs": [],
   "source": []
  },
  {
   "cell_type": "code",
   "execution_count": null,
   "metadata": {},
   "outputs": [],
   "source": [
    "%reload_ext autoreload\n",
    "%autoreload 2"
   ]
  }
 ],
 "metadata": {
  "kernelspec": {
   "display_name": "base",
   "language": "python",
   "name": "python3"
  },
  "language_info": {
   "codemirror_mode": {
    "name": "ipython",
    "version": 3
   },
   "file_extension": ".py",
   "mimetype": "text/x-python",
   "name": "python",
   "nbconvert_exporter": "python",
   "pygments_lexer": "ipython3",
   "version": "3.12.9"
  }
 },
 "nbformat": 4,
 "nbformat_minor": 2
}
