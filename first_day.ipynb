{
 "cells": [
  {
   "cell_type": "code",
   "execution_count": 8,
   "metadata": {},
   "outputs": [
    {
     "name": "stdout",
     "output_type": "stream",
     "text": [
      "2\n"
     ]
    }
   ],
   "source": [
    "import functions   \n",
    "\n",
    "# testing Patterncount\n",
    "\n",
    "a = \"atcaatgatcaacgtaagcttctaagcatgatcaaggtgctcacacagtttatccacaac\"\n",
    "\n",
    "b = \"taag\"\n",
    "\n",
    "print(functions.PatternCount(a, b))"
   ]
  },
  {
   "cell_type": "code",
   "execution_count": 13,
   "metadata": {},
   "outputs": [
    {
     "name": "stdout",
     "output_type": "stream",
     "text": [
      "['CTAT', 'ACTA']\n"
     ]
    }
   ],
   "source": [
    "\n",
    "import functions\n",
    "\n",
    "#testing first version of Frequent words\n",
    "\n",
    "text = \"ACAACTATGCATACTATCGGGAACTATCCT\"\n",
    "\n",
    "k =4\n",
    "\n",
    "print(functions.FrequentWords(text, k))"
   ]
  },
  {
   "cell_type": "code",
   "execution_count": 4,
   "metadata": {},
   "outputs": [
    {
     "name": "stdout",
     "output_type": "stream",
     "text": [
      "['atgatcaag', 'ctcttgatc', 'tcttgatca', 'cttgatcat']\n"
     ]
    }
   ],
   "source": [
    "import functions\n",
    "\n",
    "#testing improved version of max k-mer function\n",
    "\n",
    "text = (\"atcaatgatcaacgtaagcttctaagcatgatcaaggtgctcacacagtttatccacaac\"\n",
    "        \"ctgagtggatgacatcaagataggtcgttgtatctccttcctctcgtactctcatgacca\"\n",
    "        \"cggaaagatgatcaagagaggatgatttcttggccatatcgcaatgaatacttgtgactt\"\n",
    "        \"gtgcttccaattgacatcttcagcgccatattgcgctggccaaggtgacggagcgggatt\"\n",
    "        \"acgaaagcatgatcatggctgttgttctgtttatcttgttttgactgagacttgttagga\"\n",
    "        \"tagacggtttttcatcactgactagccaaagccttactctgcctgacatcgaccgtaaat\"\n",
    "        \"tgataatgaatttacatgcttccgcgacgatttacctcttgatcatcgatccgattgaag\"\n",
    "        \"atcttcaattgttaattctcttgcctcgactcatagccatgatgagctcttgatcatgtt\"\n",
    "        \"tccttaaccctctattttttacggaagaatgatcaagctgctgctcttgatcatcgtttc\")\n",
    "\n",
    "k =9\n",
    "\n",
    "print(functions.ImprovedFrequentWords(text, k))"
   ]
  },
  {
   "cell_type": "code",
   "execution_count": 1,
   "metadata": {},
   "outputs": [
    {
     "ename": "KeyError",
     "evalue": "'g'",
     "output_type": "error",
     "traceback": [
      "\u001b[1;31m---------------------------------------------------------------------------\u001b[0m",
      "\u001b[1;31mKeyError\u001b[0m                                  Traceback (most recent call last)",
      "Cell \u001b[1;32mIn[1], line 7\u001b[0m\n\u001b[0;32m      3\u001b[0m \u001b[38;5;66;03m#testing reverse complement problem\u001b[39;00m\n\u001b[0;32m      5\u001b[0m Pattern \u001b[38;5;241m=\u001b[39m \u001b[38;5;124m\"\u001b[39m\u001b[38;5;124matgatcaag\u001b[39m\u001b[38;5;124m\"\u001b[39m\n\u001b[1;32m----> 7\u001b[0m \u001b[38;5;28mprint\u001b[39m(\u001b[43mfunctions\u001b[49m\u001b[38;5;241;43m.\u001b[39;49m\u001b[43mComplementreverse\u001b[49m\u001b[43m(\u001b[49m\u001b[43mPattern\u001b[49m\u001b[43m)\u001b[49m)\n",
      "File \u001b[1;32mc:\\Users\\paulm\\python_kurs_ws24\\functions.py:46\u001b[0m, in \u001b[0;36mComplementreverse\u001b[1;34m(Pattern)\u001b[0m\n\u001b[0;32m     44\u001b[0m \u001b[38;5;28;01mdef\u001b[39;00m\u001b[38;5;250m \u001b[39m\u001b[38;5;21mComplementreverse\u001b[39m(Pattern):\n\u001b[0;32m     45\u001b[0m     complement \u001b[38;5;241m=\u001b[39m {\u001b[38;5;124m'\u001b[39m\u001b[38;5;124mA\u001b[39m\u001b[38;5;124m'\u001b[39m:\u001b[38;5;124m'\u001b[39m\u001b[38;5;124mT\u001b[39m\u001b[38;5;124m'\u001b[39m, \u001b[38;5;124m'\u001b[39m\u001b[38;5;124mT\u001b[39m\u001b[38;5;124m'\u001b[39m:\u001b[38;5;124m'\u001b[39m\u001b[38;5;124mA\u001b[39m\u001b[38;5;124m'\u001b[39m, \u001b[38;5;124m'\u001b[39m\u001b[38;5;124mC\u001b[39m\u001b[38;5;124m'\u001b[39m:\u001b[38;5;124m'\u001b[39m\u001b[38;5;124mG\u001b[39m\u001b[38;5;124m'\u001b[39m, \u001b[38;5;124m'\u001b[39m\u001b[38;5;124mG\u001b[39m\u001b[38;5;124m'\u001b[39m:\u001b[38;5;124m'\u001b[39m\u001b[38;5;124mC\u001b[39m\u001b[38;5;124m'\u001b[39m} \u001b[38;5;66;03m#dictionary to map complement\u001b[39;00m\n\u001b[1;32m---> 46\u001b[0m     Patternrc \u001b[38;5;241m=\u001b[39m\u001b[38;5;124;43m'\u001b[39;49m\u001b[38;5;124;43m'\u001b[39;49m\u001b[38;5;241;43m.\u001b[39;49m\u001b[43mjoin\u001b[49m\u001b[43m(\u001b[49m\u001b[43mcomplement\u001b[49m\u001b[43m[\u001b[49m\u001b[43mbase\u001b[49m\u001b[43m]\u001b[49m\u001b[43m \u001b[49m\u001b[38;5;28;43;01mfor\u001b[39;49;00m\u001b[43m \u001b[49m\u001b[43mbase\u001b[49m\u001b[43m \u001b[49m\u001b[38;5;129;43;01min\u001b[39;49;00m\u001b[43m \u001b[49m\u001b[38;5;28;43mreversed\u001b[39;49m\u001b[43m(\u001b[49m\u001b[43mPattern\u001b[49m\u001b[43m)\u001b[49m\u001b[43m)\u001b[49m  \u001b[38;5;66;03m#complement each n and reverse result\u001b[39;00m\n\u001b[0;32m     47\u001b[0m     \u001b[38;5;28;01mreturn\u001b[39;00m Patternrc\n",
      "File \u001b[1;32mc:\\Users\\paulm\\python_kurs_ws24\\functions.py:46\u001b[0m, in \u001b[0;36m<genexpr>\u001b[1;34m(.0)\u001b[0m\n\u001b[0;32m     44\u001b[0m \u001b[38;5;28;01mdef\u001b[39;00m\u001b[38;5;250m \u001b[39m\u001b[38;5;21mComplementreverse\u001b[39m(Pattern):\n\u001b[0;32m     45\u001b[0m     complement \u001b[38;5;241m=\u001b[39m {\u001b[38;5;124m'\u001b[39m\u001b[38;5;124mA\u001b[39m\u001b[38;5;124m'\u001b[39m:\u001b[38;5;124m'\u001b[39m\u001b[38;5;124mT\u001b[39m\u001b[38;5;124m'\u001b[39m, \u001b[38;5;124m'\u001b[39m\u001b[38;5;124mT\u001b[39m\u001b[38;5;124m'\u001b[39m:\u001b[38;5;124m'\u001b[39m\u001b[38;5;124mA\u001b[39m\u001b[38;5;124m'\u001b[39m, \u001b[38;5;124m'\u001b[39m\u001b[38;5;124mC\u001b[39m\u001b[38;5;124m'\u001b[39m:\u001b[38;5;124m'\u001b[39m\u001b[38;5;124mG\u001b[39m\u001b[38;5;124m'\u001b[39m, \u001b[38;5;124m'\u001b[39m\u001b[38;5;124mG\u001b[39m\u001b[38;5;124m'\u001b[39m:\u001b[38;5;124m'\u001b[39m\u001b[38;5;124mC\u001b[39m\u001b[38;5;124m'\u001b[39m} \u001b[38;5;66;03m#dictionary to map complement\u001b[39;00m\n\u001b[1;32m---> 46\u001b[0m     Patternrc \u001b[38;5;241m=\u001b[39m\u001b[38;5;124m'\u001b[39m\u001b[38;5;124m'\u001b[39m\u001b[38;5;241m.\u001b[39mjoin(\u001b[43mcomplement\u001b[49m\u001b[43m[\u001b[49m\u001b[43mbase\u001b[49m\u001b[43m]\u001b[49m \u001b[38;5;28;01mfor\u001b[39;00m base \u001b[38;5;129;01min\u001b[39;00m \u001b[38;5;28mreversed\u001b[39m(Pattern))  \u001b[38;5;66;03m#complement each n and reverse result\u001b[39;00m\n\u001b[0;32m     47\u001b[0m     \u001b[38;5;28;01mreturn\u001b[39;00m Patternrc\n",
      "\u001b[1;31mKeyError\u001b[0m: 'g'"
     ]
    }
   ],
   "source": [
    "import functions\n",
    "\n",
    "#testing reverse complement problem\n",
    "\n",
    "Pattern = \"atgatcaag\"\n",
    "\n",
    "print(functions.Complementreverse(Pattern))\n",
    "\n"
   ]
  }
 ],
 "metadata": {
  "kernelspec": {
   "display_name": "base",
   "language": "python",
   "name": "python3"
  },
  "language_info": {
   "codemirror_mode": {
    "name": "ipython",
    "version": 3
   },
   "file_extension": ".py",
   "mimetype": "text/x-python",
   "name": "python",
   "nbconvert_exporter": "python",
   "pygments_lexer": "ipython3",
   "version": "3.12.9"
  }
 },
 "nbformat": 4,
 "nbformat_minor": 2
}
