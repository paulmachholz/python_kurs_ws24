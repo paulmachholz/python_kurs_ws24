{
 "cells": [
  {
   "cell_type": "code",
   "execution_count": 4,
   "metadata": {},
   "outputs": [
    {
     "ename": "IndentationError",
     "evalue": "unindent does not match any outer indentation level (functions.py, line 64)",
     "output_type": "error",
     "traceback": [
      "Traceback \u001b[1;36m(most recent call last)\u001b[0m:\n",
      "\u001b[0m  File \u001b[0;32mf:\\Users\\paulm\\miniforge3\\Lib\\site-packages\\IPython\\core\\interactiveshell.py:3579\u001b[0m in \u001b[0;35mrun_code\u001b[0m\n    exec(code_obj, self.user_global_ns, self.user_ns)\u001b[0m\n",
      "\u001b[1;36m  Cell \u001b[1;32mIn[4], line 1\u001b[1;36m\n\u001b[1;33m    import functions\u001b[1;36m\n",
      "\u001b[1;36m  File \u001b[1;32mc:\\Users\\paulm\\python_kurs_ws24\\functions.py:64\u001b[1;36m\u001b[0m\n\u001b[1;33m    return max(freqMap.values()) if freqMap else 0\u001b[0m\n\u001b[1;37m                                                   ^\u001b[0m\n\u001b[1;31mIndentationError\u001b[0m\u001b[1;31m:\u001b[0m unindent does not match any outer indentation level\n"
     ]
    }
   ],
   "source": [
    "import functions   \n",
    "\n",
    "# testing Patterncount\n",
    "\n",
    "a = \"atcaatgatcaacgtaagcttctaagcatgatcaaggtgctcacacagtttatccacaac\"\n",
    "\n",
    "b = \"taag\"\n",
    "\n",
    "print(functions.PatternCount(a, b))"
   ]
  },
  {
   "cell_type": "code",
   "execution_count": 1,
   "metadata": {},
   "outputs": [
    {
     "name": "stdout",
     "output_type": "stream",
     "text": [
      "['CTAT', 'ACTA']\n"
     ]
    }
   ],
   "source": [
    "\n",
    "import functions\n",
    "\n",
    "#testing first version of Frequent words\n",
    "\n",
    "text = \"ACAACTATGCATACTATCGGGAACTATCCT\"\n",
    "\n",
    "k =4\n",
    "\n",
    "print(functions.FrequentWords(text, k))"
   ]
  },
  {
   "cell_type": "code",
   "execution_count": 3,
   "metadata": {},
   "outputs": [
    {
     "name": "stdout",
     "output_type": "stream",
     "text": [
      "['atgatcaag', 'ctcttgatc', 'tcttgatca', 'cttgatcat']\n"
     ]
    }
   ],
   "source": [
    "import functions\n",
    "\n",
    "#testing improved version of max k-mer function\n",
    "\n",
    "text = (\"atcaatgatcaacgtaagcttctaagcatgatcaaggtgctcacacagtttatccacaac\"\n",
    "        \"ctgagtggatgacatcaagataggtcgttgtatctccttcctctcgtactctcatgacca\"\n",
    "        \"cggaaagatgatcaagagaggatgatttcttggccatatcgcaatgaatacttgtgactt\"\n",
    "        \"gtgcttccaattgacatcttcagcgccatattgcgctggccaaggtgacggagcgggatt\"\n",
    "        \"acgaaagcatgatcatggctgttgttctgtttatcttgttttgactgagacttgttagga\"\n",
    "        \"tagacggtttttcatcactgactagccaaagccttactctgcctgacatcgaccgtaaat\"\n",
    "        \"tgataatgaatttacatgcttccgcgacgatttacctcttgatcatcgatccgattgaag\"\n",
    "        \"atcttcaattgttaattctcttgcctcgactcatagccatgatgagctcttgatcatgtt\"\n",
    "        \"tccttaaccctctattttttacggaagaatgatcaagctgctgctcttgatcatcgtttc\")\n",
    "\n",
    "k =9\n",
    "\n",
    "print(functions.ImprovedFrequentWords(text, k))"
   ]
  },
  {
   "cell_type": "code",
   "execution_count": 2,
   "metadata": {},
   "outputs": [
    {
     "ename": "IndentationError",
     "evalue": "unindent does not match any outer indentation level (functions.py, line 64)",
     "output_type": "error",
     "traceback": [
      "Traceback \u001b[1;36m(most recent call last)\u001b[0m:\n",
      "\u001b[0m  File \u001b[0;32mf:\\Users\\paulm\\miniforge3\\Lib\\site-packages\\IPython\\core\\interactiveshell.py:3579\u001b[0m in \u001b[0;35mrun_code\u001b[0m\n    exec(code_obj, self.user_global_ns, self.user_ns)\u001b[0m\n",
      "\u001b[0m  Cell \u001b[0;32mIn[2], line 1\u001b[0m\n    get_ipython().run_cell_magic('timeit', '', '\\nimport functions\\n\\n#testing reverse complement problem\\n\\nPattern = \"atgatcaag\"\\n\\nprint(functions.Complementreverse(Pattern))\\n\\n')\u001b[0m\n",
      "\u001b[0m  File \u001b[0;32mf:\\Users\\paulm\\miniforge3\\Lib\\site-packages\\IPython\\core\\interactiveshell.py:2543\u001b[0m in \u001b[0;35mrun_cell_magic\u001b[0m\n    result = fn(*args, **kwargs)\u001b[0m\n",
      "\u001b[0m  File \u001b[0;32mf:\\Users\\paulm\\miniforge3\\Lib\\site-packages\\IPython\\core\\magics\\execution.py:1209\u001b[0m in \u001b[0;35mtimeit\u001b[0m\n    time_number = timer.timeit(number)\u001b[0m\n",
      "\u001b[0m  File \u001b[0;32mf:\\Users\\paulm\\miniforge3\\Lib\\site-packages\\IPython\\core\\magics\\execution.py:173\u001b[0m in \u001b[0;35mtimeit\u001b[0m\n    timing = self.inner(it, self.timer)\u001b[0m\n",
      "\u001b[1;36m  File \u001b[1;32m<magic-timeit>:1\u001b[1;36m in \u001b[1;35minner\u001b[1;36m\n",
      "\u001b[1;36m  File \u001b[1;32mc:\\Users\\paulm\\python_kurs_ws24\\functions.py:64\u001b[1;36m\u001b[0m\n\u001b[1;33m    return max(freqMap.values()) if freqMap else 0\u001b[0m\n\u001b[1;37m                                                   ^\u001b[0m\n\u001b[1;31mIndentationError\u001b[0m\u001b[1;31m:\u001b[0m unindent does not match any outer indentation level\n"
     ]
    }
   ],
   "source": [
    "%%timeit\n",
    "\n",
    "import functions\n",
    "\n",
    "#testing reverse complement problem\n",
    "\n",
    "Pattern = \"atgatcaag\"\n",
    "\n",
    "print(functions.Complementreverse(Pattern))\n",
    "\n"
   ]
  },
  {
   "cell_type": "code",
   "execution_count": 2,
   "metadata": {},
   "outputs": [
    {
     "name": "stdout",
     "output_type": "stream",
     "text": [
      "27 127 508 397 468 525\n"
     ]
    }
   ],
   "source": [
    "import functions\n",
    "\n",
    "Pattern = \"atgatcaag\"\n",
    "Genome = (\"atcaatgatcaacgtaagcttctaagcatgatcaaggtgctcacacagtttatccacaac\"\n",
    "          \"ctgagtggatgacatcaagataggtcgttgtatctccttcctctcgtactctcatgacca\"\n",
    "          \"cggaaagatgatcaagagaggatgatttcttggccatatcgcaatgaatacttgtgactt\"\n",
    "          \"gtgcttccaattgacatcttcagcgccatattgcgctggccaaggtgacggagcgggatt\"\n",
    "          \"acgaaagcatgatcatggctgttgttctgtttatcttgttttgactgagacttgttagga\"\n",
    "          \"tagacggtttttcatcactgactagccaaagccttactctgcctgacatcgaccgtaaat\"\n",
    "          \"tgataatgaatttacatgcttccgcgacgatttacctcttgatcatcgatccgattgaag\"\n",
    "          \"atcttcaattgttaattctcttgcctcgactcatagccatgatgagctcttgatcatgtt\"\n",
    "          \"tccttaaccctctattttttacggaagaatgatcaagctgctgctcttgatcatcgtttc\")\n",
    "\n",
    "position = functions.patternmatching(Pattern, Genome)\n",
    "print(\" \".join(map(str, position)))"
   ]
  },
  {
   "cell_type": "code",
   "execution_count": null,
   "metadata": {},
   "outputs": [],
   "source": []
  },
  {
   "cell_type": "code",
   "execution_count": null,
   "metadata": {},
   "outputs": [],
   "source": [
    "%reload_ext autoreload\n",
    "%autoreload 2"
   ]
  }
 ],
 "metadata": {
  "kernelspec": {
   "display_name": "base",
   "language": "python",
   "name": "python3"
  },
  "language_info": {
   "codemirror_mode": {
    "name": "ipython",
    "version": 3
   },
   "file_extension": ".py",
   "mimetype": "text/x-python",
   "name": "python",
   "nbconvert_exporter": "python",
   "pygments_lexer": "ipython3",
   "version": "3.12.9"
  }
 },
 "nbformat": 4,
 "nbformat_minor": 2
}
