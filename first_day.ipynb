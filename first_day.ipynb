{
 "cells": [
  {
   "cell_type": "code",
   "execution_count": 8,
   "metadata": {},
   "outputs": [
    {
     "name": "stdout",
     "output_type": "stream",
     "text": [
      "2\n"
     ]
    }
   ],
   "source": [
    "import functions   \n",
    "\n",
    "# testing Patterncount\n",
    "\n",
    "a = \"atcaatgatcaacgtaagcttctaagcatgatcaaggtgctcacacagtttatccacaac\"\n",
    "\n",
    "b = \"taag\"\n",
    "\n",
    "print(functions.PatternCount(a, b))"
   ]
  },
  {
   "cell_type": "code",
   "execution_count": 13,
   "metadata": {},
   "outputs": [
    {
     "name": "stdout",
     "output_type": "stream",
     "text": [
      "['CTAT', 'ACTA']\n"
     ]
    }
   ],
   "source": [
    "\n",
    "import functions\n",
    "\n",
    "#testing first version of Frequent words\n",
    "\n",
    "text = \"ACAACTATGCATACTATCGGGAACTATCCT\"\n",
    "\n",
    "k =4\n",
    "\n",
    "print(functions.FrequentWords(text, k))"
   ]
  },
  {
   "cell_type": "code",
   "execution_count": 4,
   "metadata": {},
   "outputs": [
    {
     "name": "stdout",
     "output_type": "stream",
     "text": [
      "['atgatcaag', 'ctcttgatc', 'tcttgatca', 'cttgatcat']\n"
     ]
    }
   ],
   "source": [
    "import functions\n",
    "\n",
    "#testing improved version of max k-mer function\n",
    "\n",
    "text = (\"atcaatgatcaacgtaagcttctaagcatgatcaaggtgctcacacagtttatccacaac\"\n",
    "        \"ctgagtggatgacatcaagataggtcgttgtatctccttcctctcgtactctcatgacca\"\n",
    "        \"cggaaagatgatcaagagaggatgatttcttggccatatcgcaatgaatacttgtgactt\"\n",
    "        \"gtgcttccaattgacatcttcagcgccatattgcgctggccaaggtgacggagcgggatt\"\n",
    "        \"acgaaagcatgatcatggctgttgttctgtttatcttgttttgactgagacttgttagga\"\n",
    "        \"tagacggtttttcatcactgactagccaaagccttactctgcctgacatcgaccgtaaat\"\n",
    "        \"tgataatgaatttacatgcttccgcgacgatttacctcttgatcatcgatccgattgaag\"\n",
    "        \"atcttcaattgttaattctcttgcctcgactcatagccatgatgagctcttgatcatgtt\"\n",
    "        \"tccttaaccctctattttttacggaagaatgatcaagctgctgctcttgatcatcgtttc\")\n",
    "\n",
    "k =9\n",
    "\n",
    "print(functions.ImprovedFrequentWords(text, k))"
   ]
  },
  {
   "cell_type": "code",
   "execution_count": 1,
   "metadata": {},
   "outputs": [
    {
     "name": "stdout",
     "output_type": "stream",
     "text": [
      "cttgatcat\n"
     ]
    }
   ],
   "source": [
    "import functions\n",
    "\n",
    "#testing reverse complement problem\n",
    "\n",
    "Pattern = \"atgatcaag\"\n",
    "\n",
    "print(functions.Complementreverse(Pattern))\n",
    "\n"
   ]
  },
  {
   "cell_type": "code",
   "execution_count": 1,
   "metadata": {},
   "outputs": [
    {
     "ename": "NameError",
     "evalue": "name 'patternmatching' is not defined",
     "output_type": "error",
     "traceback": [
      "\u001b[1;31m---------------------------------------------------------------------------\u001b[0m",
      "\u001b[1;31mNameError\u001b[0m                                 Traceback (most recent call last)",
      "Cell \u001b[1;32mIn[1], line 14\u001b[0m\n\u001b[0;32m      3\u001b[0m Pattern \u001b[38;5;241m=\u001b[39m \u001b[38;5;124m\"\u001b[39m\u001b[38;5;124matcaag\u001b[39m\u001b[38;5;124m\"\u001b[39m\n\u001b[0;32m      4\u001b[0m Genome \u001b[38;5;241m=\u001b[39m(\u001b[38;5;124m\"\u001b[39m\u001b[38;5;124matcaatgatcaacgtaagcttctaagcatgatcaaggtgctcacacagtttatccacaac\u001b[39m\u001b[38;5;124m\"\u001b[39m\n\u001b[0;32m      5\u001b[0m         \u001b[38;5;124m\"\u001b[39m\u001b[38;5;124mctgagtggatgacatcaagataggtcgttgtatctccttcctctcgtactctcatgacca\u001b[39m\u001b[38;5;124m\"\u001b[39m\n\u001b[0;32m      6\u001b[0m         \u001b[38;5;124m\"\u001b[39m\u001b[38;5;124mcggaaagatgatcaagagaggatgatttcttggccatatcgcaatgaatacttgtgactt\u001b[39m\u001b[38;5;124m\"\u001b[39m\n\u001b[1;32m   (...)\u001b[0m\n\u001b[0;32m     11\u001b[0m         \u001b[38;5;124m\"\u001b[39m\u001b[38;5;124matcttcaattgttaattctcttgcctcgactcatagccatgatgagctcttgatcatgtt\u001b[39m\u001b[38;5;124m\"\u001b[39m\n\u001b[0;32m     12\u001b[0m         \u001b[38;5;124m\"\u001b[39m\u001b[38;5;124mtccttaaccctctattttttacggaagaatgatcaagctgctgctcttgatcatcgtttc\u001b[39m\u001b[38;5;124m\"\u001b[39m)\n\u001b[1;32m---> 14\u001b[0m position \u001b[38;5;241m=\u001b[39m \u001b[43mpatternmatching\u001b[49m(Pattern, Genome)\n\u001b[0;32m     15\u001b[0m \u001b[38;5;28mprint\u001b[39m(\u001b[38;5;124m\"\u001b[39m\u001b[38;5;124m\"\u001b[39m\u001b[38;5;241m.\u001b[39mjoin(\u001b[38;5;28mmap\u001b[39m(\u001b[38;5;28mstr\u001b[39m, position)))\n",
      "\u001b[1;31mNameError\u001b[0m: name 'patternmatching' is not defined"
     ]
    }
   ],
   "source": [
    "import functions\n",
    "\n",
    "Pattern = \"atcaag\"\n",
    "Genome =(\"atcaatgatcaacgtaagcttctaagcatgatcaaggtgctcacacagtttatccacaac\"\n",
    "        \"ctgagtggatgacatcaagataggtcgttgtatctccttcctctcgtactctcatgacca\"\n",
    "        \"cggaaagatgatcaagagaggatgatttcttggccatatcgcaatgaatacttgtgactt\"\n",
    "        \"gtgcttccaattgacatcttcagcgccatattgcgctggccaaggtgacggagcgggatt\"\n",
    "        \"acgaaagcatgatcatggctgttgttctgtttatcttgttttgactgagacttgttagga\"\n",
    "        \"tagacggtttttcatcactgactagccaaagccttactctgcctgacatcgaccgtaaat\"\n",
    "        \"tgataatgaatttacatgcttccgcgacgatttacctcttgatcatcgatccgattgaag\"\n",
    "        \"atcttcaattgttaattctcttgcctcgactcatagccatgatgagctcttgatcatgtt\"\n",
    "        \"tccttaaccctctattttttacggaagaatgatcaagctgctgctcttgatcatcgtttc\")\n",
    "\n",
    "position = patternmatching(Pattern, Genome)\n",
    "print(\"\".join(map(str, position)))"
   ]
  }
 ],
 "metadata": {
  "kernelspec": {
   "display_name": "base",
   "language": "python",
   "name": "python3"
  },
  "language_info": {
   "codemirror_mode": {
    "name": "ipython",
    "version": 3
   },
   "file_extension": ".py",
   "mimetype": "text/x-python",
   "name": "python",
   "nbconvert_exporter": "python",
   "pygments_lexer": "ipython3",
   "version": "3.12.9"
  }
 },
 "nbformat": 4,
 "nbformat_minor": 2
}
