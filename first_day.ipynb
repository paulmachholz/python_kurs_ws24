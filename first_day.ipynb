{
 "cells": [
  {
   "cell_type": "code",
   "execution_count": 8,
   "metadata": {},
   "outputs": [
    {
     "name": "stdout",
     "output_type": "stream",
     "text": [
      "2\n"
     ]
    }
   ],
   "source": [
    "import functions   \n",
    "\n",
    "# testing Patterncount\n",
    "\n",
    "a = \"atcaatgatcaacgtaagcttctaagcatgatcaaggtgctcacacagtttatccacaac\"\n",
    "\n",
    "b = \"taag\"\n",
    "\n",
    "print(functions.PatternCount(a, b))"
   ]
  },
  {
   "cell_type": "code",
   "execution_count": 3,
   "metadata": {},
   "outputs": [
    {
     "name": "stdout",
     "output_type": "stream",
     "text": [
      "['ACTAT']\n"
     ]
    }
   ],
   "source": [
    "\n",
    "import functions\n",
    "\n",
    "text = \"ACAACTATGCATACTATCGGGAACTATCCT\"\n",
    "\n",
    "k = 5\n",
    "\n",
    "print(functions.FrequentWords(text, k))"
   ]
  }
 ],
 "metadata": {
  "kernelspec": {
   "display_name": "base",
   "language": "python",
   "name": "python3"
  },
  "language_info": {
   "codemirror_mode": {
    "name": "ipython",
    "version": 3
   },
   "file_extension": ".py",
   "mimetype": "text/x-python",
   "name": "python",
   "nbconvert_exporter": "python",
   "pygments_lexer": "ipython3",
   "version": "3.12.9"
  }
 },
 "nbformat": 4,
 "nbformat_minor": 2
}
